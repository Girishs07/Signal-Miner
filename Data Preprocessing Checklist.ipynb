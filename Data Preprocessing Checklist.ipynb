{
 "cells": [
  {
   "cell_type": "code",
   "execution_count": 1,
   "id": "2877f3a0",
   "metadata": {},
   "outputs": [
    {
     "name": "stdout",
     "output_type": "stream",
     "text": [
      "  company_name                                          job_title department  \\\n",
      "0    Chargebee  Chargebee hiring Product Marketing Manager in ...  Marketing   \n",
      "1    Chargebee  Chargebee hiring Staff Product Manager in Chen...    Product   \n",
      "2    Chargebee       Large Enterprise Program Manager - Chargebee      Other   \n",
      "3    Chargebee        Product Marketing Manager -SAAS - Chargebee  Marketing   \n",
      "4    Chargebee    Product Marketing Manager - Revenue Recognition  Marketing   \n",
      "\n",
      "                                            location seniority  \\\n",
      "0  Chargebee Is Seeking A Product Marketing Manag...       Mid   \n",
      "1                             Information Technology       Mid   \n",
      "2  Chargebee Is A Leading Provider Of Billing And...       Mid   \n",
      "3  4 Years Of Product Marketing Experience In Saa...       Mid   \n",
      "4  Chargebee Is Seeking A Product Marketing Manag...       Mid   \n",
      "\n",
      "                                             job_url  \\\n",
      "0  https://www.linkedin.com/jobs/view/product-mar...   \n",
      "1  https://in.linkedin.com/jobs/view/staff-produc...   \n",
      "2  https://www.linkedin.com/jobs/view/large-enter...   \n",
      "3  https://in.linkedin.com/jobs/view/product-mark...   \n",
      "4  https://in.linkedin.com/jobs/view/product-mark...   \n",
      "\n",
      "                            growth_signal_tag  \n",
      "0  Leadership Upgrade, New Product Initiative  \n",
      "1  Leadership Upgrade, New Product Initiative  \n",
      "2                          Leadership Upgrade  \n",
      "3  Leadership Upgrade, New Product Initiative  \n",
      "4  Leadership Upgrade, New Product Initiative  \n",
      "<class 'pandas.core.frame.DataFrame'>\n",
      "RangeIndex: 320 entries, 0 to 319\n",
      "Data columns (total 7 columns):\n",
      " #   Column             Non-Null Count  Dtype \n",
      "---  ------             --------------  ----- \n",
      " 0   company_name       320 non-null    object\n",
      " 1   job_title          320 non-null    object\n",
      " 2   department         320 non-null    object\n",
      " 3   location           320 non-null    object\n",
      " 4   seniority          320 non-null    object\n",
      " 5   job_url            320 non-null    object\n",
      " 6   growth_signal_tag  320 non-null    object\n",
      "dtypes: object(7)\n",
      "memory usage: 17.6+ KB\n",
      "None\n"
     ]
    }
   ],
   "source": [
    "\n",
    "import pandas as pd, datetime as dt, numpy as np\n",
    "\n",
    "df = pd.read_csv(\"linkedin_job_listings_enhanced.csv\",encoding='utf-8')\n",
    "\n",
    "print(df.head())\n",
    "print(df.info())"
   ]
  },
  {
   "cell_type": "code",
   "execution_count": 2,
   "id": "4d4385c8",
   "metadata": {},
   "outputs": [
    {
     "name": "stdout",
     "output_type": "stream",
     "text": [
      "  company_name                                          job_title department  \\\n",
      "0    Chargebee  Chargebee hiring Product Marketing Manager in ...  Marketing   \n",
      "1    Chargebee  Chargebee hiring Staff Product Manager in Chen...    Product   \n",
      "2    Chargebee       Large Enterprise Program Manager - Chargebee      Other   \n",
      "3    Chargebee        Product Marketing Manager -SAAS - Chargebee  Marketing   \n",
      "4    Chargebee    Product Marketing Manager - Revenue Recognition  Marketing   \n",
      "\n",
      "                                            location seniority  \\\n",
      "0  Chargebee Is Seeking A Product Marketing Manag...       Mid   \n",
      "1                             Information Technology       Mid   \n",
      "2  Chargebee Is A Leading Provider Of Billing And...       Mid   \n",
      "3  4 Years Of Product Marketing Experience In Saa...       Mid   \n",
      "4  Chargebee Is Seeking A Product Marketing Manag...       Mid   \n",
      "\n",
      "                                             job_url  \\\n",
      "0  https://www.linkedin.com/jobs/view/product-mar...   \n",
      "1  https://in.linkedin.com/jobs/view/staff-produc...   \n",
      "2  https://www.linkedin.com/jobs/view/large-enter...   \n",
      "3  https://in.linkedin.com/jobs/view/product-mark...   \n",
      "4  https://in.linkedin.com/jobs/view/product-mark...   \n",
      "\n",
      "                            growth_signal_tag        processed_timestamp  \\\n",
      "0  Leadership Upgrade, New Product Initiative 2025-06-21 19:12:09.180193   \n",
      "1  Leadership Upgrade, New Product Initiative 2025-06-21 19:12:09.180193   \n",
      "2                          Leadership Upgrade 2025-06-21 19:12:09.180193   \n",
      "3  Leadership Upgrade, New Product Initiative 2025-06-21 19:12:09.180193   \n",
      "4  Leadership Upgrade, New Product Initiative 2025-06-21 19:12:09.180193   \n",
      "\n",
      "  role_function  growth_tag_remote_hiring_focus  \\\n",
      "0     Marketing                           False   \n",
      "1       Product                           False   \n",
      "2         Other                           False   \n",
      "3     Marketing                           False   \n",
      "4     Marketing                           False   \n",
      "\n",
      "   growth_tag_product_team_buildout  \n",
      "0                             False  \n",
      "1                              True  \n",
      "2                             False  \n",
      "3                             False  \n",
      "4                             False  \n"
     ]
    }
   ],
   "source": [
    "import pandas as pd, numpy as np, datetime as dt\n",
    "\n",
    "df_clean = df.copy()\n",
    "\n",
    "\n",
    "df_clean.columns = [c.strip().lower().replace(' ', '_') for c in df_clean.columns]\n",
    "\n",
    "\n",
    "current_ts = pd.Timestamp.now()\n",
    "df_clean['processed_timestamp'] = current_ts\n",
    "\n",
    "\n",
    "function_map = {\n",
    "    'engineering': 'Engineering',\n",
    "    'product': 'Product',\n",
    "    'marketing': 'Marketing',\n",
    "    'sales': 'Sales',\n",
    "    'finance': 'Finance',\n",
    "    'hr': 'HR',\n",
    "    'other': 'Other'\n",
    "}\n",
    "\n",
    "\n",
    "role_function = []\n",
    "for i, row in df_clean.iterrows():\n",
    "    dept = str(row['department']).strip().lower()\n",
    "    if dept in function_map:\n",
    "        role_function.append(function_map[dept])\n",
    "    else:\n",
    "        title = str(row['job_title']).lower()\n",
    "        if 'engineer' in title or 'developer' in title:\n",
    "            role_function.append('Engineering')\n",
    "        elif 'product' in title:\n",
    "            role_function.append('Product')\n",
    "        elif 'marketing' in title:\n",
    "            role_function.append('Marketing')\n",
    "        elif 'sales' in title or 'account executive' in title:\n",
    "            role_function.append('Sales')\n",
    "        elif 'finance' in title or 'accountant' in title:\n",
    "            role_function.append('Finance')\n",
    "        elif 'hr' in title or 'talent' in title:\n",
    "            role_function.append('HR')\n",
    "        else:\n",
    "            role_function.append('Other')\n",
    "\n",
    "\n",
    "df_clean['role_function'] = role_function\n",
    "\n",
    "\n",
    "remote_mask = df_clean['location'].str.contains('remote', case=False, na=False)\n",
    "df_clean['growth_tag_remote_hiring_focus'] = np.where(remote_mask, True, False)\n",
    "\n",
    "\n",
    "product_counts = df_clean[df_clean['role_function'] == 'Product']['company_name'].value_counts()\n",
    "product_build_companies = product_counts[product_counts >= 3].index.tolist()\n",
    "\n",
    "df_clean['growth_tag_product_team_buildout'] = df_clean.apply(lambda r: True if (r['company_name'] in product_build_companies and r['role_function'] == 'Product') else False, axis=1)\n",
    "\n",
    "\n",
    "print(df_clean.head())"
   ]
  },
  {
   "cell_type": "code",
   "execution_count": 3,
   "id": "e797b59a",
   "metadata": {},
   "outputs": [],
   "source": [
    "import matplotlib.pyplot as plt\n",
    "import seaborn as sns"
   ]
  },
  {
   "cell_type": "code",
   "execution_count": 5,
   "id": "19de2255",
   "metadata": {},
   "outputs": [
    {
     "data": {
      "image/png": "[encoded data removed]",
      "text/plain": [
       "<Figure size 800x500 with 1 Axes>"
      ]
     },
     "metadata": {},
     "output_type": "display_data"
    }
   ],
   "source": [
    "sns.set_style(\"whitegrid\")\n",
    "\n",
    "plt.figure(figsize=(8,5))\n",
    "role_counts = df_clean['role_function'].value_counts().sort_values(ascending=False)\n",
    "sns.barplot(x=role_counts.values, y=role_counts.index,hue=role_counts.index, palette='viridis',legend=False)\n",
    "plt.title('Job Postings by Role Function')\n",
    "plt.xlabel('Count of Postings')\n",
    "plt.ylabel('Role Function')\n",
    "plt.tight_layout()\n",
    "plt.show()"
   ]
  },
  {
   "cell_type": "code",
   "execution_count": 6,
   "id": "8db12733",
   "metadata": {},
   "outputs": [
    {
     "data": {
      "image/png": "[encoded data removed]",
      "text/plain": [
       "<Figure size 600x400 with 1 Axes>"
      ]
     },
     "metadata": {},
     "output_type": "display_data"
    }
   ],
   "source": [
    "plt.figure(figsize=(6,4))\n",
    "remote_counts = df_clean['growth_tag_remote_hiring_focus'].value_counts()\n",
    "labels = ['Non-Remote','Remote']\n",
    "plt.pie(remote_counts.values, labels=labels, autopct='%1.0f%%', startangle=140, colors=['#66c2a5','#fc8d62'])\n",
    "plt.title('Share of Remote vs Non-Remote Listings')\n",
    "plt.tight_layout()\n",
    "plt.show()"
   ]
  },
  {
   "cell_type": "code",
   "execution_count": 8,
   "id": "c860323b",
   "metadata": {},
   "outputs": [
    {
     "data": {
      "image/png": "[encoded data removed]",
      "text/plain": [
       "<Figure size 800x500 with 1 Axes>"
      ]
     },
     "metadata": {},
     "output_type": "display_data"
    },
    {
     "name": "stdout",
     "output_type": "stream",
     "text": [
      "Visualizations generated.\n"
     ]
    }
   ],
   "source": [
    "buildout_df = df_clean[df_clean['growth_tag_product_team_buildout']]\n",
    "if not buildout_df.empty:\n",
    "    plt.figure(figsize=(8,5))\n",
    "    prod_counts = buildout_df['company_name'].value_counts()\n",
    "    sns.barplot(x=prod_counts.index, y=prod_counts.values,hue=prod_counts.index, palette='magma',legend=False)\n",
    "    plt.title('Companies with Product Team Buildout')\n",
    "    plt.xlabel('Company')\n",
    "    plt.ylabel('Product Role Postings')\n",
    "    plt.xticks(rotation=45, ha='right')\n",
    "    plt.tight_layout()\n",
    "    plt.show()\n",
    "else:\n",
    "    print('No companies currently meet the product team buildout criteria.')\n",
    "\n",
    "print('Visualizations generated.')"
   ]
  },
  {
   "cell_type": "code",
   "execution_count": 20,
   "id": "0cef8a32",
   "metadata": {},
   "outputs": [
    {
     "name": "stdout",
     "output_type": "stream",
     "text": [
      "  company_name                                          job_title department  \\\n",
      "0    Chargebee  Chargebee hiring Product Marketing Manager in ...  Marketing   \n",
      "1    Chargebee  Chargebee hiring Staff Product Manager in Chen...    Product   \n",
      "2    Chargebee       Large Enterprise Program Manager - Chargebee      Other   \n",
      "3    Chargebee        Product Marketing Manager -SAAS - Chargebee  Marketing   \n",
      "4    Chargebee    Product Marketing Manager - Revenue Recognition  Marketing   \n",
      "\n",
      "                                            location seniority  \\\n",
      "0  Chargebee Is Seeking A Product Marketing Manag...       Mid   \n",
      "1                             Information Technology       Mid   \n",
      "2  Chargebee Is A Leading Provider Of Billing And...       Mid   \n",
      "3  4 Years Of Product Marketing Experience In Saa...       Mid   \n",
      "4  Chargebee Is Seeking A Product Marketing Manag...       Mid   \n",
      "\n",
      "                                             job_url  \\\n",
      "0  https://www.linkedin.com/jobs/view/product-mar...   \n",
      "1  https://in.linkedin.com/jobs/view/staff-produc...   \n",
      "2  https://www.linkedin.com/jobs/view/large-enter...   \n",
      "3  https://in.linkedin.com/jobs/view/product-mark...   \n",
      "4  https://in.linkedin.com/jobs/view/product-mark...   \n",
      "\n",
      "                            growth_signal_tag        processed_timestamp  \\\n",
      "0  Leadership Upgrade, New Product Initiative 2025-06-21 19:12:09.180193   \n",
      "1  Leadership Upgrade, New Product Initiative 2025-06-21 19:12:09.180193   \n",
      "2                          Leadership Upgrade 2025-06-21 19:12:09.180193   \n",
      "3  Leadership Upgrade, New Product Initiative 2025-06-21 19:12:09.180193   \n",
      "4  Leadership Upgrade, New Product Initiative 2025-06-21 19:12:09.180193   \n",
      "\n",
      "  role_function  growth_tag_remote_hiring_focus  \\\n",
      "0     Marketing                           False   \n",
      "1       Product                           False   \n",
      "2         Other                           False   \n",
      "3     Marketing                           False   \n",
      "4     Marketing                           False   \n",
      "\n",
      "   growth_tag_product_team_buildout  \n",
      "0                             False  \n",
      "1                              True  \n",
      "2                             False  \n",
      "3                             False  \n",
      "4                             False  \n"
     ]
    }
   ],
   "source": [
    "print(df_clean.head())"
   ]
  },
  {
   "cell_type": "code",
   "execution_count": 10,
   "id": "ebc30b4c",
   "metadata": {},
   "outputs": [
    {
     "name": "stdout",
     "output_type": "stream",
     "text": [
      "                                           job_title  \\\n",
      "0  Chargebee hiring Product Marketing Manager in ...   \n",
      "1  Chargebee hiring Staff Product Manager in Chen...   \n",
      "2       Large Enterprise Program Manager - Chargebee   \n",
      "3        Product Marketing Manager -SAAS - Chargebee   \n",
      "4    Product Marketing Manager - Revenue Recognition   \n",
      "\n",
      "                               job_title_clean  \\\n",
      "0   Product Marketing Manager In Salt Lake ...   \n",
      "1  Staff Product Manager In Chennai, Tamil ...   \n",
      "2             Large Enterprise Program Manager   \n",
      "3              Product Marketing Manager -Saas   \n",
      "4                    Product Marketing Manager   \n",
      "\n",
      "                                            location  \\\n",
      "0  Chargebee Is Seeking A Product Marketing Manag...   \n",
      "1                             Information Technology   \n",
      "2  Chargebee Is A Leading Provider Of Billing And...   \n",
      "3  4 Years Of Product Marketing Experience In Saa...   \n",
      "4  Chargebee Is Seeking A Product Marketing Manag...   \n",
      "\n",
      "                                       location_city  \n",
      "0  Chargebee Is Seeking A Product Marketing Manag...  \n",
      "1                             Information Technology  \n",
      "2  Chargebee Is A Leading Provider Of Billing And...  \n",
      "3  4 Years Of Product Marketing Experience In Saa...  \n",
      "4  Chargebee Is Seeking A Product Marketing Manag...  \n"
     ]
    }
   ],
   "source": [
    "import re, pandas as pd\n",
    "\n",
    "df_clean2 = df_clean.copy()\n",
    "\n",
    "def clean_title(title):\n",
    "    if pd.isna(title):\n",
    "        return title\n",
    "    t = str(title)\n",
    "    \n",
    "    t = re.sub(r'.*?hiring\\s+', '', t, flags=re.IGNORECASE)\n",
    "   \n",
    "    t = re.sub(r'\\s+[-|–]\\s+.*$', '', t)\n",
    "    \n",
    "    t = re.sub(r'[-–|]\\s+.*$', '', t)\n",
    "    \n",
    "    t = t.strip()\n",
    "    return t.title()\n",
    "\n",
    "def extract_city(loc):\n",
    "    if pd.isna(loc):\n",
    "        return loc\n",
    "    l = str(loc)\n",
    "    \n",
    "    if 'remote' in l.lower():\n",
    "        return 'Remote'\n",
    "    \n",
    "    l_split = re.split(r'[,-]', l)\n",
    "    city = l_split[0].strip()\n",
    "    return city.title()\n",
    "\n",
    "\n",
    "df_clean2['job_title_clean'] = df_clean2['job_title'].apply(clean_title)\n",
    "df_clean2['location_city'] = df_clean2['location'].apply(extract_city)\n",
    "\n",
    "\n",
    "print(df_clean2[['job_title', 'job_title_clean', 'location', 'location_city']].head())"
   ]
  },
  {
   "cell_type": "code",
   "execution_count": 13,
   "id": "d4151f4b",
   "metadata": {},
   "outputs": [
    {
     "name": "stdout",
     "output_type": "stream",
     "text": [
      "  company_name department                                           location  \\\n",
      "0    Chargebee  Marketing  Chargebee Is Seeking A Product Marketing Manag...   \n",
      "1    Chargebee    Product                             Information Technology   \n",
      "2    Chargebee      Other  Chargebee Is A Leading Provider Of Billing And...   \n",
      "3    Chargebee  Marketing  4 Years Of Product Marketing Experience In Saa...   \n",
      "4    Chargebee  Marketing  Chargebee Is Seeking A Product Marketing Manag...   \n",
      "\n",
      "  seniority                                            job_url  \\\n",
      "0       Mid  https://www.linkedin.com/jobs/view/product-mar...   \n",
      "1       Mid  https://in.linkedin.com/jobs/view/staff-produc...   \n",
      "2       Mid  https://www.linkedin.com/jobs/view/large-enter...   \n",
      "3       Mid  https://in.linkedin.com/jobs/view/product-mark...   \n",
      "4       Mid  https://in.linkedin.com/jobs/view/product-mark...   \n",
      "\n",
      "                            growth_signal_tag        processed_timestamp  \\\n",
      "0  Leadership Upgrade, New Product Initiative 2025-06-21 19:12:09.180193   \n",
      "1  Leadership Upgrade, New Product Initiative 2025-06-21 19:12:09.180193   \n",
      "2                          Leadership Upgrade 2025-06-21 19:12:09.180193   \n",
      "3  Leadership Upgrade, New Product Initiative 2025-06-21 19:12:09.180193   \n",
      "4  Leadership Upgrade, New Product Initiative 2025-06-21 19:12:09.180193   \n",
      "\n",
      "  role_function  growth_tag_remote_hiring_focus  \\\n",
      "0     Marketing                           False   \n",
      "1       Product                           False   \n",
      "2         Other                           False   \n",
      "3     Marketing                           False   \n",
      "4     Marketing                           False   \n",
      "\n",
      "   growth_tag_product_team_buildout  \\\n",
      "0                             False   \n",
      "1                              True   \n",
      "2                             False   \n",
      "3                             False   \n",
      "4                             False   \n",
      "\n",
      "                               job_title_clean  \n",
      "0   Product Marketing Manager In Salt Lake ...  \n",
      "1  Staff Product Manager In Chennai, Tamil ...  \n",
      "2             Large Enterprise Program Manager  \n",
      "3              Product Marketing Manager -Saas  \n",
      "4                    Product Marketing Manager  \n"
     ]
    }
   ],
   "source": [
    "drop = ['job_title', 'location_city']\n",
    "\n",
    "df_final = df_clean2.drop(columns=drop, errors='ignore')\n",
    "\n",
    "print(df_final.head())"
   ]
  },
  {
   "cell_type": "code",
   "execution_count": 16,
   "id": "cf3c504e",
   "metadata": {},
   "outputs": [
    {
     "data": {
      "text/plain": [
       "Index(['company_name', 'job_title', 'department', 'location', 'seniority',\n",
       "       'job_url', 'growth_signal_tag'],\n",
       "      dtype='object')"
      ]
     },
     "execution_count": 16,
     "metadata": {},
     "output_type": "execute_result"
    }
   ],
   "source": [
    "df.columns"
   ]
  },
  {
   "cell_type": "code",
   "execution_count": 28,
   "id": "968adc61",
   "metadata": {},
   "outputs": [
    {
     "name": "stdout",
     "output_type": "stream",
     "text": [
      "   processed_timestamp\n",
      "0  2025-06-21 20:16:32\n",
      "1  2025-06-21 20:16:32\n",
      "2  2025-06-21 20:16:32\n",
      "3  2025-06-21 20:16:32\n",
      "4  2025-06-21 20:16:32\n",
      "Dataset with formatted timestamp saved to linkedin_job_listings_cleaned.csv\n"
     ]
    }
   ],
   "source": [
    "\n",
    "df_final['processed_timestamp'] = pd.Timestamp.now().strftime('%Y-%m-%d %H:%M:%S')\n",
    "\n",
    "print(df_final[['processed_timestamp']].head())\n",
    "\n",
    "\n",
    "final_file = 'linkedin_job_listings_cleaned.csv'\n",
    "df_final.to_csv(final_file, index=False, encoding='utf-8')\n",
    "print('Dataset with formatted timestamp saved to', final_file)"
   ]
  },
  {
   "cell_type": "code",
   "execution_count": 18,
   "id": "2a256d56",
   "metadata": {},
   "outputs": [
    {
     "data": {
      "text/plain": [
       "Index(['company_name', 'job_title', 'department', 'location', 'seniority',\n",
       "       'job_url', 'growth_signal_tag'],\n",
       "      dtype='object')"
      ]
     },
     "execution_count": 18,
     "metadata": {},
     "output_type": "execute_result"
    }
   ],
   "source": [
    "df.columns"
   ]
  },
  {
   "cell_type": "code",
   "execution_count": 22,
   "id": "48ceb3e7",
   "metadata": {},
   "outputs": [
    {
     "name": "stdout",
     "output_type": "stream",
     "text": [
      "Row index 3 details:\n",
      "company_name                                                                Chargebee\n",
      "department                                                                  Marketing\n",
      "location                            4 Years Of Product Marketing Experience In Saa...\n",
      "seniority                                                                         Mid\n",
      "job_url                             https://in.linkedin.com/jobs/view/product-mark...\n",
      "growth_signal_tag                          Leadership Upgrade, New Product Initiative\n",
      "processed_timestamp                                               2025-06-21 19:19:46\n",
      "role_function                                                               Marketing\n",
      "growth_tag_remote_hiring_focus                                                  False\n",
      "growth_tag_product_team_buildout                                                False\n",
      "job_title_clean                                       Product Marketing Manager -Saas\n",
      "Name: 3, dtype: object\n"
     ]
    }
   ],
   "source": [
    "\n",
    "row3 = df_final.iloc[3]\n",
    "print('Row index 3 details:')\n",
    "print(row3)\n",
    "\n",
    "\n",
    "company_counts = df_final['company_name'].value_counts()\n",
    "function_counts = df_final['role_function'].value_counts()\n",
    "\n",
    "tag_matrix = df_final.groupby(['company_name']).agg({\n",
    "    'growth_tag_remote_hiring_focus':'sum',\n",
    "    'growth_tag_product_team_buildout':'sum'\n",
    "}).reset_index()\n",
    "\n"
   ]
  },
  {
   "cell_type": "code",
   "execution_count": 23,
   "id": "ae5aecef",
   "metadata": {},
   "outputs": [
    {
     "name": "stdout",
     "output_type": "stream",
     "text": [
      "company_name\n",
      "Kala.ai      50\n",
      "Yellow.ai    44\n",
      "Graphy       43\n",
      "Razorpay     43\n",
      "Chargebee    42\n",
      "Name: count, dtype: int64\n"
     ]
    }
   ],
   "source": [
    "\n",
    "print(company_counts.head())\n"
   ]
  },
  {
   "cell_type": "code",
   "execution_count": 24,
   "id": "7436a3b0",
   "metadata": {},
   "outputs": [
    {
     "name": "stdout",
     "output_type": "stream",
     "text": [
      "role_function\n",
      "Other          132\n",
      "Engineering     79\n",
      "Product         49\n",
      "Sales           28\n",
      "Marketing       27\n",
      "Name: count, dtype: int64\n",
      "   company_name  growth_tag_remote_hiring_focus  \\\n",
      "0  BrowserStack                               1   \n",
      "1     Chargebee                               0   \n",
      "2        Graphy                               1   \n",
      "3       Kala.ai                               0   \n",
      "4        Meesho                               0   \n",
      "\n",
      "   growth_tag_product_team_buildout  \n",
      "0                                 9  \n",
      "1                                 8  \n",
      "2                                 6  \n",
      "3                                 3  \n",
      "4                                 7  \n"
     ]
    }
   ],
   "source": [
    "print(function_counts.head())\n",
    "print(tag_matrix.head())"
   ]
  }
 ],
 "metadata": {
  "kernelspec": {
   "display_name": "base",
   "language": "python",
   "name": "python3"
  },
  "language_info": {
   "codemirror_mode": {
    "name": "ipython",
    "version": 3
   },
   "file_extension": ".py",
   "mimetype": "text/x-python",
   "name": "python",
   "nbconvert_exporter": "python",
   "pygments_lexer": "ipython3",
   "version": "3.12.7"
  }
 },
 "nbformat": 4,
 "nbformat_minor": 5
}
